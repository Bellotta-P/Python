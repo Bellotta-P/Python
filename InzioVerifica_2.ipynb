{
  "nbformat": 4,
  "nbformat_minor": 0,
  "metadata": {
    "colab": {
      "name": "InzioVerifica#2.ipynb",
      "provenance": []
    },
    "kernelspec": {
      "name": "python3",
      "display_name": "Python 3"
    },
    "language_info": {
      "name": "python"
    }
  },
  "cells": [
    {
      "cell_type": "markdown",
      "metadata": {
        "id": "EcGVoWlqr7Cm"
      },
      "source": [
        "Scrivere un programma che carichi in una lista 10 città italiane e le visualizzi ordinandole in base alla lunghezza del nome (ordine crescente e decrescente)Scrivere un programma che carichi in una lista 10 città italiane ed elimini i doppioni (se presenti)."
      ]
    },
    {
      "cell_type": "code",
      "metadata": {
        "colab": {
          "base_uri": "https://localhost:8080/"
        },
        "id": "xqeDed_YY7yC",
        "outputId": "080b7aa3-3f03-44f5-889d-ec9c11db787d"
      },
      "source": [
        "citta = ['Roma','Como','Bra','Bari','Milano','Pisa','Varese','Lecco','Torino','Foggia']\n",
        "cittaCrescente = sorted(citta,key = len)\n",
        "print(cittaCrescente)\n",
        "cittaDecrescente = sorted(citta, key = len, reverse = True)\n",
        "print(cittaDecrescente)"
      ],
      "execution_count": 20,
      "outputs": [
        {
          "output_type": "stream",
          "name": "stdout",
          "text": [
            "['Bra', 'Roma', 'Como', 'Bari', 'Pisa', 'Lecco', 'Milano', 'Varese', 'Torino', 'Foggia']\n",
            "['Milano', 'Varese', 'Torino', 'Foggia', 'Lecco', 'Roma', 'Como', 'Bari', 'Pisa', 'Bra']\n"
          ]
        }
      ]
    },
    {
      "cell_type": "markdown",
      "metadata": {
        "id": "ZJtwurRZr-d0"
      },
      "source": [
        "Scrivere un programma che date due liste contenente 10 città, visualizzi le città presenti in entrambe le liste. Utilizzare il minor numero di istruzioni possibile.\n"
      ]
    },
    {
      "cell_type": "code",
      "metadata": {
        "colab": {
          "base_uri": "https://localhost:8080/"
        },
        "id": "CzKKaiFZr91s",
        "outputId": "8af95365-f977-49f4-d592-4849dd56998c"
      },
      "source": [
        "citta.extend(['Taio','Torino','Torino'])\n",
        "print(citta)\n",
        "cittaFinale = list(dict.fromkeys(citta))\n",
        "print(cittaFinale)"
      ],
      "execution_count": 2,
      "outputs": [
        {
          "output_type": "stream",
          "name": "stdout",
          "text": [
            "['Roma', 'Como', 'Bra', 'Bari', 'Milano', 'Pisa', 'Varese', 'Lecco', 'Torino', 'Foggia', 'Taio', 'Torino', 'Torino']\n",
            "['Roma', 'Como', 'Bra', 'Bari', 'Milano', 'Pisa', 'Varese', 'Lecco', 'Torino', 'Foggia', 'Taio']\n"
          ]
        }
      ]
    },
    {
      "cell_type": "markdown",
      "metadata": {
        "id": "rBxpyv9qr-0E"
      },
      "source": [
        "Utilizzare il minor numero di istruzioni possibile.Scrivere un programma che date due liste contenente 10 città, visualizzi le città presenti in entrambe le liste."
      ]
    },
    {
      "cell_type": "code",
      "metadata": {
        "colab": {
          "base_uri": "https://localhost:8080/"
        },
        "id": "-_Khta_8r_Ok",
        "outputId": "eb4da7ff-687a-4ce2-b897-2ea9ebb0e9ab"
      },
      "source": [
        "citta1 = ['Varese', 'Milano', 'Lecco', 'Bari', 'Roma', 'Pisa', 'Como', 'Bra']\n",
        "citta2 = ['Napoli', 'Palermo', 'Lecco', 'Bari', 'Roma', 'Pisa', 'Como', 'Bra']\n",
        "cittaComuni = list(set(citta1).intersection(set(citta2)))\n",
        "print(cittaComuni)"
      ],
      "execution_count": 3,
      "outputs": [
        {
          "output_type": "stream",
          "name": "stdout",
          "text": [
            "['Roma', 'Pisa', 'Bra', 'Lecco', 'Bari', 'Como']\n"
          ]
        }
      ]
    },
    {
      "cell_type": "markdown",
      "metadata": {
        "id": "3NhzM9Zsr_gH"
      },
      "source": [
        "Scrivere un programma che carichi in un dizionario 10 città (campo chiave) e le 10 regioni in cui si trovano le città (campo valore). Visualizzare poi tutti i dati con il messaggio “città si trova in regione”"
      ]
    },
    {
      "cell_type": "code",
      "metadata": {
        "colab": {
          "base_uri": "https://localhost:8080/"
        },
        "id": "tvf1Sr92r_ts",
        "outputId": "be86df69-6ac0-4f63-cc68-a86837e9ff71"
      },
      "source": [
        "d = {'Lecco': 'Lombardia', 'Bari':'Puglia', 'Roma':'Lazio', 'Pisa':'Toscana', 'Como':'Lombardia', 'Bra':'Piemonte', 'Torino':'Piemonte', 'Foggia':'Puglia'}\n",
        "for i in d:\n",
        "    print(i,\"si trova in\", d[i])"
      ],
      "execution_count": 5,
      "outputs": [
        {
          "output_type": "stream",
          "name": "stdout",
          "text": [
            "Lecco si trova in Lombardia\n",
            "Bari si trova in Puglia\n",
            "Roma si trova in Lazio\n",
            "Pisa si trova in Toscana\n",
            "Como si trova in Lombardia\n",
            "Bra si trova in Piemonte\n",
            "Torino si trova in Piemonte\n",
            "Foggia si trova in Puglia\n"
          ]
        }
      ]
    },
    {
      "cell_type": "markdown",
      "metadata": {
        "id": "2SCXigiLr__O"
      },
      "source": [
        "Scrivere un programma che acquisisca il nome di una città e dica in quale regione si trova (utilizzare il dizionario creato precedentemente)"
      ]
    },
    {
      "cell_type": "code",
      "metadata": {
        "colab": {
          "base_uri": "https://localhost:8080/"
        },
        "id": "JYBpuNhcsAMl",
        "outputId": "9e55c79e-7719-424b-d463-5fe098a2020f"
      },
      "source": [
        "citta = input(\"Inserisci la citta : \")\n",
        "d  = {'Lecco': 'Lombardia', 'Bari':'Puglia', 'Roma':'Lazio', 'Pisa':'Toscana', 'Como':'Lombardia', 'Bra':'Piemonte', 'Torino':'Piemonte', 'Foggia':'Puglia'}\n",
        "print(citta + \" - \" + d.get(citta))"
      ],
      "execution_count": 8,
      "outputs": [
        {
          "output_type": "stream",
          "name": "stdout",
          "text": [
            "Inserisci la citta : Foggia\n",
            "Foggia - Puglia\n"
          ]
        }
      ]
    },
    {
      "cell_type": "markdown",
      "metadata": {
        "id": "N9vC7MxLsAgu"
      },
      "source": [
        "Scrivere un programma che carichi in una lista tutti i numeri pari minori di 100."
      ]
    },
    {
      "cell_type": "code",
      "metadata": {
        "colab": {
          "base_uri": "https://localhost:8080/"
        },
        "id": "1ToeiC9AsAvq",
        "outputId": "e17c9876-e38a-428d-d033-92c5f0b0a7e2"
      },
      "source": [
        "l = []\n",
        "# (0 to 100, divide per 2)\n",
        "for i in range (0,100,2):\n",
        "  l.append(i)\n",
        "print(l)"
      ],
      "execution_count": 9,
      "outputs": [
        {
          "output_type": "stream",
          "name": "stdout",
          "text": [
            "[0, 2, 4, 6, 8, 10, 12, 14, 16, 18, 20, 22, 24, 26, 28, 30, 32, 34, 36, 38, 40, 42, 44, 46, 48, 50, 52, 54, 56, 58, 60, 62, 64, 66, 68, 70, 72, 74, 76, 78, 80, 82, 84, 86, 88, 90, 92, 94, 96, 98]\n"
          ]
        }
      ]
    },
    {
      "cell_type": "markdown",
      "metadata": {
        "id": "mnFyP46-sar9"
      },
      "source": [
        "Scrivere un programma che carichi in una lista tutti i numeri interi compresi tra due estremi inseriti dall’utente, Il programma deve poi caricare in un’altra lista tutti i multipli di tre presenti nella lista di partenza. Visualizzare al termine entrambe le liste."
      ]
    },
    {
      "cell_type": "code",
      "metadata": {
        "colab": {
          "base_uri": "https://localhost:8080/"
        },
        "id": "kQ8FfHn8sa6h",
        "outputId": "7d70bfe4-9924-4227-be6e-f53f8bd16ec5"
      },
      "source": [
        "l = []\n",
        "l1 = []\n",
        "x = int(input(\"Inserisci il primo estremo :\"))\n",
        "y = int(input(\"Inserisci il secondo estremo :\"))\n",
        "i = range(x, y)\n",
        "for n in i:\n",
        "  l.append(n)\n",
        "  #se n ha resto 3 \n",
        "  if n % 3==0:\n",
        "    l1.append(n)\n",
        "\n",
        "print(l1)\n",
        "print(l)"
      ],
      "execution_count": 11,
      "outputs": [
        {
          "output_type": "stream",
          "name": "stdout",
          "text": [
            "Inserisci il primo estremo :1\n",
            "Inserisci il secondo estremo :10\n",
            "[3, 6, 9]\n",
            "[1, 2, 3, 4, 5, 6, 7, 8, 9]\n"
          ]
        }
      ]
    },
    {
      "cell_type": "markdown",
      "metadata": {
        "id": "biBU7RSesdHV"
      },
      "source": [
        "Scrivere un programma che permetta all’utente di caricare in una lista una sequenza di numeri che termina con lo 0. Al termine del caricamento, visualizzare la lista."
      ]
    },
    {
      "cell_type": "code",
      "metadata": {
        "id": "_jfxupS2sc17"
      },
      "source": [
        "l = []\n",
        "for i in range(0, 10):\n",
        "    n = int(input())\n",
        "    if (n % 10 == 0):\n",
        "      l.append(n)\n",
        "print(l)"
      ],
      "execution_count": null,
      "outputs": []
    }
  ]
}