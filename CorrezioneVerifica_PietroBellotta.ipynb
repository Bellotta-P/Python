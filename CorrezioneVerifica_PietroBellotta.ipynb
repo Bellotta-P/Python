{
  "nbformat": 4,
  "nbformat_minor": 0,
  "metadata": {
    "colab": {
      "name": "Correzione_Verifica.ipynb",
      "provenance": []
    },
    "kernelspec": {
      "name": "python3",
      "display_name": "Python 3"
    },
    "language_info": {
      "name": "python"
    }
  },
  "cells": [
    {
      "cell_type": "markdown",
      "metadata": {
        "id": "r29A3mjQ6g5u"
      },
      "source": [
        "Esercizio 1:"
      ]
    },
    {
      "cell_type": "code",
      "metadata": {
        "id": "bPUbfN1C6gR8"
      },
      "source": [
        "n1 = int(input(\"inserisci un numero\"))\n",
        "n2 = int(input(\"inserisci un numero\"))\n",
        "n3 = int(input(\"inserisci un numero\"))\n",
        "\n",
        "media = (n1 + n2 + n3)/3\n",
        "print(media)\n"
      ],
      "execution_count": null,
      "outputs": []
    },
    {
      "cell_type": "markdown",
      "metadata": {
        "id": "9OEQ-dP46lys"
      },
      "source": [
        "Esercizio 2:"
      ]
    },
    {
      "cell_type": "code",
      "metadata": {
        "id": "05ICwBi16tvD"
      },
      "source": [
        "raggio = float(input(\"Per favore inserisci il raggio: \"))\n",
        "area = 3.14159*(raggio**2)\n",
        "print (\"\")\n",
        "print (\"L'area è di\", area, \"cm\")"
      ],
      "execution_count": null,
      "outputs": []
    },
    {
      "cell_type": "markdown",
      "metadata": {
        "id": "MY6hkaXc6nWz"
      },
      "source": [
        "Esercizio 3:"
      ]
    },
    {
      "cell_type": "code",
      "metadata": {
        "id": "zpxGakAW6ojI"
      },
      "source": [
        "Nome = input(\"Ciao come fai di Nome?: \")\n",
        "Cognome = input(\"Ciao come fai di Cognome?: \")\n",
        "\n",
        "print(\"ciao: \" + Nome.capitalize() + \" , \" + Cognome.capitalize())\n"
      ],
      "execution_count": null,
      "outputs": []
    },
    {
      "cell_type": "markdown",
      "metadata": {
        "id": "iqV02tEd6ou4"
      },
      "source": [
        "Esercizio 4:"
      ]
    },
    {
      "cell_type": "code",
      "metadata": {
        "id": "pdMbRheg6qy9"
      },
      "source": [
        "Frase = len(input(\"inserisci una frase\"))\n",
        "print(Frase)\n"
      ],
      "execution_count": null,
      "outputs": []
    },
    {
      "cell_type": "markdown",
      "metadata": {
        "id": "fb3r6MzK6ugu"
      },
      "source": [
        "Esercizio 5:"
      ]
    },
    {
      "cell_type": "code",
      "metadata": {
        "id": "Vvwm93gz6ssv"
      },
      "source": [
        "Frase = input(\"inserisci una frase\")\n",
        "listaparole = Frase.split()\n",
        "print(listaparole)"
      ],
      "execution_count": null,
      "outputs": []
    },
    {
      "cell_type": "markdown",
      "metadata": {
        "id": "e1IyU3866yBz"
      },
      "source": [
        "Esercizio 6:"
      ]
    },
    {
      "cell_type": "code",
      "metadata": {
        "id": "NCaEHS6S6zmR"
      },
      "source": [
        "Frase = input(\"inserisci una frase\")\n",
        "FraseTagliata = Frase[-3:]\n",
        "print(FraseTagliata)"
      ],
      "execution_count": null,
      "outputs": []
    },
    {
      "cell_type": "markdown",
      "metadata": {
        "id": "qIyGmkaK6z-u"
      },
      "source": [
        "Esercizio 7:"
      ]
    },
    {
      "cell_type": "code",
      "metadata": {
        "id": "BVuVIXPm64VW"
      },
      "source": [
        "Frase = input(\"inserisci una frase\")\n",
        "\n",
        "if len(Frase) < 5:\n",
        "  print(\"Frase troppo corta\")\n",
        "elif len(Frase) > 10:\n",
        "  print(\"Frase troppo lunga\")\n",
        "else:\n",
        "  print(\"La frase è ok!\")"
      ],
      "execution_count": null,
      "outputs": []
    },
    {
      "cell_type": "markdown",
      "metadata": {
        "id": "Fmr3QLHM61XM"
      },
      "source": [
        "Esercizio 8:"
      ]
    },
    {
      "cell_type": "code",
      "metadata": {
        "id": "ROzl0avm62oK"
      },
      "source": [
        "num = int(input(\"Quanti numeri vuoi mettere?: \"))\n",
        "somma = 0\n",
        "for i in range(num):\n",
        "    numbers = float(input(\"inserisci il numero: \"))\n",
        "    somma += numbers\n",
        "media = somma/num\n",
        "print(\"la media dei\", num , \"valori che hai inserito corrisponde a: \", media)"
      ],
      "execution_count": null,
      "outputs": []
    },
    {
      "cell_type": "markdown",
      "metadata": {
        "id": "_koDzBed62zE"
      },
      "source": [
        "Esercizio 9:"
      ]
    },
    {
      "cell_type": "code",
      "metadata": {
        "id": "zDe0SEIy66be"
      },
      "source": [
        "numero = int(input(\"scrivi un numero: \"))\n",
        "\n",
        "if numero % 2 == 0:\n",
        "    print (\"Pari\")\n",
        "else:\n",
        "    print (\"Dispari\")"
      ],
      "execution_count": null,
      "outputs": []
    },
    {
      "cell_type": "code",
      "metadata": {
        "id": "05wD-9hlTxdg"
      },
      "source": [
        ""
      ],
      "execution_count": null,
      "outputs": []
    }
  ]
}