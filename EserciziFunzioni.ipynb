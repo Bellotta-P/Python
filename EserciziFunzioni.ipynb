{
  "nbformat": 4,
  "nbformat_minor": 0,
  "metadata": {
    "colab": {
      "name": "EserciziFunzioni.ipynb",
      "provenance": []
    },
    "kernelspec": {
      "name": "python3",
      "display_name": "Python 3"
    },
    "language_info": {
      "name": "python"
    }
  },
  "cells": [
    {
      "cell_type": "markdown",
      "metadata": {
        "id": "VXkQYcUOtcvc"
      },
      "source": [
        "#1 Scrivere una funzione chiamata media che dati due numeri restituisca media, che aquisisca dall'utente due numeri che calcoli la media."
      ]
    },
    {
      "cell_type": "code",
      "metadata": {
        "id": "r5QUpiqvtXyj"
      },
      "source": [
        "def media(n1,n2):\n",
        "  media = (n1 + n2) / 2\n",
        "  return (media)\n",
        "n1,n2 = int(input(\"inserisci valore\")), int(input(\"inserisci valore\"))\n",
        "media(n1,n2)"
      ],
      "execution_count": null,
      "outputs": []
    },
    {
      "cell_type": "markdown",
      "metadata": {
        "id": "px-TRYcuv7mS"
      },
      "source": [
        "#2 Scrivere una funzione chiamata piu corta che date due liste restituisca la lista con meno elementi, utilizza poi la funzione che acquisisca dall'utente due liste e visualizzi gli elementi della lista più corta"
      ]
    },
    {
      "cell_type": "code",
      "metadata": {
        "id": "lymUrIGZxBcb"
      },
      "source": [
        "def piuCorta(lista1,lista2):\n",
        "  ListaCorta = len(lista1) > len(lista2)\n",
        "  if ListaCorta == True :\n",
        "    return lista2\n",
        "  else:\n",
        "    return lista1\n",
        "\n",
        "lista1 = list(map(int, input(\"inserisci valori: \").split()))\n",
        "lista2 = list(map(int, input(\"inserisci valori: \").split()))\n",
        "\n",
        "piuCorta(lista1,lista2)"
      ],
      "execution_count": null,
      "outputs": []
    },
    {
      "cell_type": "markdown",
      "metadata": {
        "id": "00tWOaX6xDEz"
      },
      "source": [
        "#3 scrivere una funzione chiamata costruisciLista che dati due numeri interi restituisca la lista formata da tutti i numeri interi compresi tra i due numeri dati. Utilizzare poi la funzione in un programma che acquisisca dall'utente due numeri e visualizzi la lista formata da tutti i numeri interi compresi tra i due numeri dati ma a partire dal più grande fino al più piccolo."
      ]
    },
    {
      "cell_type": "code",
      "metadata": {
        "id": "KabkLFG-v8Ir"
      },
      "source": [
        "def costruisciLista(n1,n2):\n",
        "  listaFinale = [i for i in range(n1,n2)]\n",
        "  listaFinale.sort(reverse=True)\n",
        "  print(listaFinale)\n",
        "\n",
        "n1,n2 = int(input(\"inserisci valore: \")), int(input(\"inserisci valore: \"))\n",
        "costruisciLista(n1,n2)"
      ],
      "execution_count": null,
      "outputs": []
    },
    {
      "cell_type": "markdown",
      "metadata": {
        "id": "0ox3NdaosrUp"
      },
      "source": [
        "\n",
        "#4 scrivere una funzione chiamata valoreAssoluto che dato un numero restituisca il suo valore assoluto. Utilizzare poi questa funzione per determinare il valore assoluto degli elementi di una lista inserita dall'utente.\n"
      ]
    },
    {
      "cell_type": "code",
      "metadata": {
        "id": "IZ8QRuUCstDY"
      },
      "source": [
        "def valoreAssoluto(n1):\n",
        "  nAssoluto = abs(n1)\n",
        "  return nAssoluto\n",
        "\n",
        "lista1 = list(map(int, input(\"inserisci valori: \").split()))\n",
        "lista2 = list(map(valoreAssoluto,lista1))\n",
        "print(lista2)"
      ],
      "execution_count": null,
      "outputs": []
    },
    {
      "cell_type": "markdown",
      "metadata": {
        "id": "aq_CvgUqwc5Z"
      },
      "source": [
        "#5 scrivere una funzione chiamata scambia che data una lista scambi il primo elemento con l'ultimo, il secondo con il penultimo e così via. Utilizzare poi la funzione in un programma che acquisisca dall'utente una lista di 10 elementi e li visualizzi scambiati."
      ]
    },
    {
      "cell_type": "code",
      "metadata": {
        "id": "PEqa3jBgx0fO"
      },
      "source": [
        "def costruisciLista(listaFinale):\n",
        "  listaFinale.reverse()\n",
        "  print(listaFinale)\n",
        "\n",
        "lista1 = list(map(int, input(\"inserisci valori: \").split()))\n",
        "costruisciLista(lista1)"
      ],
      "execution_count": null,
      "outputs": []
    },
    {
      "cell_type": "markdown",
      "metadata": {
        "id": "7IvVdhjOyuvV"
      },
      "source": [
        "\n",
        "#6 scrivere una funzione lambda che dati due numeri calcoli la loro somma. Utilizzare la funzione in un programma che chieda all'utente due numeri interi e visualizzi la loro somma."
      ]
    },
    {
      "cell_type": "code",
      "metadata": {
        "id": "SPFsQZ1EyxIe"
      },
      "source": [
        "n1,n2 = int(input(\"inserisci valore\")), int(input(\"inserisci valore\"))\n",
        "\n",
        "Risultato = lambda n1,n2: n1 + n2\n",
        "print(Risultato(n1,n2))"
      ],
      "execution_count": null,
      "outputs": []
    },
    {
      "cell_type": "markdown",
      "metadata": {
        "id": "nW9Ep0P1yxSe"
      },
      "source": [
        "#7 scrivere un programma che utilizzi una lambda function per aumentare di 10 unità tutti gli elementi di una lista di interi inserita dall'utente."
      ]
    },
    {
      "cell_type": "code",
      "metadata": {
        "id": "KhpLHJgKy0Eu"
      },
      "source": [
        "lista1 = list(map(int, input(\"inserisci valori: \").split()))\n",
        "lista2 = []\n",
        "for i in lista1 : \n",
        " Risultato = lambda i: i + 10\n",
        " lista2.append(Risultato(i))\n",
        "print(lista2)"
      ],
      "execution_count": null,
      "outputs": []
    },
    {
      "cell_type": "markdown",
      "metadata": {
        "id": "JlCGnq__y0Z0"
      },
      "source": [
        "#8 scrivere una funzione lambda che sostituisca il valore 0 se il parametro è negativo, il valore del parametro se è positivo. Utilizzare poi la funzione in un programma che chieda all'utente i 10 elementi di una lista e visualizzi la lista con il valore 0 al posto dei numeri negativi."
      ]
    },
    {
      "cell_type": "code",
      "metadata": {
        "id": "laJBi6uxy3tb"
      },
      "source": [
        "lista1 = list(map(int, input(\"inserisci valori: \").split()))\n",
        "Risultato = list(map(lambda x: x if x > 0 else 0, lista1))\n",
        "print(Risultato)"
      ],
      "execution_count": null,
      "outputs": []
    },
    {
      "cell_type": "markdown",
      "metadata": {
        "id": "gEmeatnCy3_m"
      },
      "source": [
        "#9 scrivere un programma che calcoli il fattoriale di un numero utilizzando una lambda function. Provare a realizzare una lambda function ricorsiva (per la ricorsione, google it...)"
      ]
    },
    {
      "cell_type": "code",
      "metadata": {
        "id": "7GWNeH9Iy4MO"
      },
      "source": [
        "def fattoriale(n):\n",
        "   if n == 1:\n",
        "       return 1\n",
        "   else:\n",
        "       return (n * fattoriale(n-1))\n",
        "\n",
        "risultato = int(input(\"Inserisci un numero: \"))\n",
        "if risultato >= 1:\n",
        "   print(\"Il fattoriale di\", risultato, \"è\", fattoriale(risultato))\n",
        "\n",
        "#non è fatto in lambda"
      ],
      "execution_count": null,
      "outputs": []
    }
  ]
}