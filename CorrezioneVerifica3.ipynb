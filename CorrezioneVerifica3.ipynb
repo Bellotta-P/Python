{
  "nbformat": 4,
  "nbformat_minor": 0,
  "metadata": {
    "colab": {
      "name": "CorrezioneVerifica3.ipynb",
      "provenance": [],
      "collapsed_sections": []
    },
    "kernelspec": {
      "name": "python3",
      "display_name": "Python 3"
    },
    "language_info": {
      "name": "python"
    }
  },
  "cells": [
    {
      "cell_type": "markdown",
      "metadata": {
        "id": "9SlwbGVtvT7x"
      },
      "source": [
        "Es #1 "
      ]
    },
    {
      "cell_type": "code",
      "metadata": {
        "id": "2I-p-_TRJ3VE"
      },
      "source": [
        "import math \n",
        "x, y = int(input(\"Inserisci la prima x: \")), int(input(\"Insersci la prima y; \"))\n",
        "x1, y1 = int(input(\"Inserisci la seconda x: \")), int(input(\"Insersci la seconda y; \"))\n",
        "\n",
        "print(math.sqrt((x1-x)**2 + (y1-y)**2))"
      ],
      "execution_count": null,
      "outputs": []
    },
    {
      "cell_type": "markdown",
      "metadata": {
        "id": "YrZrFwPxvWUH"
      },
      "source": [
        "Es #2"
      ]
    },
    {
      "cell_type": "code",
      "metadata": {
        "id": "UFwa6QOzL7Fx"
      },
      "source": [
        "print(\"Lati triangolo: \\n\")\n",
        "a = int(input())\n",
        "b = int(input())\n",
        "c = int(input())\n",
        "if a + b > c and a + c > b and b + c > a:\n",
        "\tprint(\"Triangolo valido.\")"
      ],
      "execution_count": null,
      "outputs": []
    },
    {
      "cell_type": "markdown",
      "metadata": {
        "id": "el8OidJbvd3e"
      },
      "source": [
        "Es #3"
      ]
    },
    {
      "cell_type": "code",
      "metadata": {
        "id": "FCW7o4CCuTsw"
      },
      "source": [
        "num = list(map(int, input().split()))\n",
        "val = int(input())\n",
        "if val in num :\n",
        "  x = num.index(val)\n",
        "  list2 = num[:x]\n",
        "  print(list2)\n",
        "else:\n",
        "  print(list2)"
      ],
      "execution_count": null,
      "outputs": []
    },
    {
      "cell_type": "markdown",
      "metadata": {
        "id": "5VWbHmot0GuA"
      },
      "source": [
        "Es #4"
      ]
    },
    {
      "cell_type": "code",
      "metadata": {
        "id": "NHQqvkND0Ghe"
      },
      "source": [
        "num = list(map(int, input().split()))\n",
        "num_set = set(num)\n",
        "verifica_dup = len(num) != len(num_set)\n",
        "print(verifica_dup)"
      ],
      "execution_count": null,
      "outputs": []
    },
    {
      "cell_type": "markdown",
      "metadata": {
        "id": "j4Zjfn9U0wkI"
      },
      "source": [
        "Es #5 \n",
        " "
      ]
    },
    {
      "cell_type": "code",
      "metadata": {
        "id": "urdyANHo05Sn"
      },
      "source": [
        "num = list(map(int, input().split()))\n",
        "pos = int(input())\n",
        "list3 = num[:pos]\n",
        "list4= num[pos:]\n",
        "print(list3)\n",
        "print(list4)"
      ],
      "execution_count": null,
      "outputs": []
    },
    {
      "cell_type": "markdown",
      "metadata": {
        "id": "9Rr0esLo2ZUg"
      },
      "source": [
        "Es #6\n"
      ]
    },
    {
      "cell_type": "code",
      "metadata": {
        "id": "VNmPjjA81w22"
      },
      "source": [
        "list = [[1,5,7,], [2, 3, 4], [3, 6, 9], [4, 8, 12]] \n",
        "check_list = [2,3,7]\n",
        "if check_list in list: \n",
        "\tprint(\"Lista presenta\") \n",
        "else: \n",
        "\tprint(\"Lista non presente\") "
      ],
      "execution_count": null,
      "outputs": []
    },
    {
      "cell_type": "markdown",
      "metadata": {
        "id": "IHahDuF_8i9d"
      },
      "source": [
        "Es #7\n"
      ]
    },
    {
      "cell_type": "code",
      "metadata": {
        "id": "ODDsc5KH9FX4"
      },
      "source": [
        "g = int(input(\"Numero: \"))\n",
        "\n",
        "tabellina = {}\n",
        "for i in range(1, 11):\n",
        "    tabellina[str(g) + \" x \" + str(i)] = g*i\n",
        "\n",
        "print(tabellina)"
      ],
      "execution_count": null,
      "outputs": []
    },
    {
      "cell_type": "markdown",
      "metadata": {
        "id": "yeHP1yPr9tkH"
      },
      "source": [
        "Es #8"
      ]
    },
    {
      "cell_type": "code",
      "metadata": {
        "id": "IvzYDSQb_YrZ"
      },
      "source": [
        "import collections\n",
        "sentence = input()\n",
        "words = sentence.split()\n",
        "word_counts = collections.Counter(words)\n",
        "for word, count in word_counts.items():\n",
        "    print('la parola \"%s\" compare %d volte.' % (word, count))"
      ],
      "execution_count": null,
      "outputs": []
    },
    {
      "cell_type": "markdown",
      "metadata": {
        "id": "I16FR4qcEpNR"
      },
      "source": [
        "Es #9\n"
      ]
    },
    {
      "cell_type": "code",
      "metadata": {
        "id": "nuRtlwIpEk88"
      },
      "source": [
        "classe = [{'cognome' :'Blanchi', 'voto': 6}, {'cognome': 'Neri', 'voto': 8}, {'cognome': 'Glalli', 'voto': 3}]\n",
        "for i in classe:\n",
        "  if i['voto'] >= 6:\n",
        "        print('studente insufficente : ',i[\"cognome\"])"
      ],
      "execution_count": null,
      "outputs": []
    }
  ]
}